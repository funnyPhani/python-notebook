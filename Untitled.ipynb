{
 "cells": [
  {
   "cell_type": "code",
   "execution_count": 1,
   "metadata": {},
   "outputs": [
    {
     "name": "stdout",
     "output_type": "stream",
     "text": [
      "enter ur data :Phani,25,500000,2\n"
     ]
    },
    {
     "data": {
      "text/plain": [
       "('Hello Phani and u are 25 and ur salary is 500000, ur exprerence is 2',\n",
       " 'Hello Phani and u are 25 and ur salary is 500000',\n",
       " 'Hello Phani and u are 25')"
      ]
     },
     "execution_count": 1,
     "metadata": {},
     "output_type": "execute_result"
    }
   ],
   "source": [
    "import numpy as np\n",
    "class Person:\n",
    "    def __init__(self,name,age):\n",
    "        self.name = name\n",
    "        self.age = age\n",
    "    def get_data(self):\n",
    "        return f\"Hello {self.name} and u are {self.age}\"\n",
    "    \n",
    "class Employee(Person):\n",
    "    def __init__(self,name,age,salary):\n",
    "        self.salary = salary\n",
    "        super().__init__(name,age)\n",
    "    def get_data(self):\n",
    "        return f\"Hello {self.name} and u are {self.age} and ur salary is {self.salary}\"\n",
    "\n",
    "class Teacher(Employee):\n",
    "    def __init__(self,name,age,salary,year_of_experience):\n",
    "        self.year_of_experience = year_of_experience\n",
    "        super().__init__(name,age,salary)\n",
    "    def get_data(self):\n",
    "        return f\"Hello {self.name} and u are {self.age} and ur salary is {self.salary}, ur exprerence is {self.year_of_experience}\"\n",
    "\n",
    "a,b,c,d = list(map(str,input('enter ur data :').split(',')))\n",
    "b,c,d = int(b),int(c),int(d)\n",
    "pk = np.array([a,b,c,d])\n",
    "a1 = Teacher(pk[0],pk[1],pk[2],pk[3])\n",
    "a2 = Employee(pk[0],pk[1],pk[2])\n",
    "a3 = Person(pk[0],pk[1])\n",
    "a1.get_data(),a2.get_data(),a3.get_data()\n",
    "\n",
    "\n",
    "\n",
    "\n",
    "# help(Teacher)\n",
    "\n"
   ]
  },
  {
   "cell_type": "code",
   "execution_count": 2,
   "metadata": {},
   "outputs": [
    {
     "data": {
      "text/plain": [
       "(('ML', 50), ('DL', 30), ('NLP', 50))"
      ]
     },
     "execution_count": 2,
     "metadata": {},
     "output_type": "execute_result"
    }
   ],
   "source": [
    "class Person:\n",
    "    name = \"Phani\"\n",
    "    age = 25\n",
    "    def show(self,name,age):\n",
    "        self.name = name\n",
    "        self.age = 45\n",
    "        return self.name,Person.age\n",
    "class Employee:\n",
    "    name = \"Python\"\n",
    "    age = 30\n",
    "    def show(self,name,age):\n",
    "        self.name = name\n",
    "        self.age = 1991\n",
    "        return self.name,Employee.age\n",
    "class Teacher(Person,Employee):\n",
    "    name = \"JAVA\"\n",
    "    age = 50\n",
    "    def show(self,name,age):\n",
    "        self.name = name\n",
    "        self.age = 1995\n",
    "        return self.name,Teacher.age\n",
    "a1 = Teacher()\n",
    "a2 = Employee()\n",
    "a3 = Teacher()\n",
    "a1.show(\"ML\",25),a2.show(\"DL\",25),a3.show(\"NLP\",25)"
   ]
  },
  {
   "cell_type": "markdown",
   "metadata": {},
   "source": [
    "# conditional statemets\n",
    "\n",
    "* if\n",
    "* elif\n",
    "* nested if\n",
    "* else\n",
    "\n",
    "# Loops\n",
    "\n",
    "* while \n",
    "* for\n",
    "* nested loops\n",
    "\n"
   ]
  },
  {
   "cell_type": "code",
   "execution_count": 12,
   "metadata": {},
   "outputs": [
    {
     "name": "stdout",
     "output_type": "stream",
     "text": [
      "---------------\n",
      "iteration : 1\n",
      "---------------\n",
      "enter a value :125\n",
      "125 is odd\n"
     ]
    }
   ],
   "source": [
    "\n",
    "\n",
    "\n",
    "i=1\n",
    "while True and i<=4:\n",
    "    print('-'*15)\n",
    "    print(f\"iteration : {i}\")\n",
    "    print('-'*15)\n",
    "    i+=1\n",
    "    a = int(input('enter a value :'))\n",
    "    if a>0:\n",
    "        if a>100 and a<500:\n",
    "            if a%2==0:\n",
    "                print(f'{a} is even ')\n",
    "                break\n",
    "            else:\n",
    "                print(a,\"is odd\")\n",
    "                break\n",
    "        else:\n",
    "            print('plz enter data btn 100-500')\n",
    "    else:\n",
    "        print('enetr +ve num')\n",
    "else:\n",
    "    print(\"u hv complted ur turns...\")"
   ]
  },
  {
   "cell_type": "code",
   "execution_count": null,
   "metadata": {},
   "outputs": [
    {
     "name": "stdout",
     "output_type": "stream",
     "text": [
      "\n",
      "    \n",
      "    1.even/odd\n",
      "    2.primes btn range\n",
      "    3.factorial\n",
      "    4.exit\n",
      "    \n",
      "    \n",
      "    \n",
      "enter ur chooice : 1\n",
      "---------------\n",
      "iteration : 1\n",
      "---------------\n",
      "enter a value :125\n",
      "125 is odd\n",
      "\n",
      "    \n",
      "    1.even/odd\n",
      "    2.primes btn range\n",
      "    3.factorial\n",
      "    4.exit\n",
      "    \n",
      "    \n",
      "    \n",
      "enter ur chooice : 2\n",
      "enter lower :50\n",
      "enyer upper :100\n",
      "53  59  61  67  71  73  79  83  89  97  \n",
      "    \n",
      "    1.even/odd\n",
      "    2.primes btn range\n",
      "    3.factorial\n",
      "    4.exit\n",
      "    \n",
      "    \n",
      "    \n"
     ]
    }
   ],
   "source": [
    "while True:\n",
    "    \n",
    "    a = \"\"\"\n",
    "    \n",
    "    1.even/odd\n",
    "    2.primes btn range\n",
    "    3.factorial\n",
    "    4.exit\n",
    "    \n",
    "    \n",
    "    \"\"\"\n",
    "    print(a)\n",
    "    \n",
    "    data = int(input('enter ur chooice : '))\n",
    "    if data in [1,2,3,4]:\n",
    "        if data == 1:\n",
    "            i=1\n",
    "            while True and i<=4:\n",
    "                print('-'*15)\n",
    "                print(f\"iteration : {i}\")\n",
    "                print('-'*15)\n",
    "                i+=1\n",
    "                a = int(input('enter a value :'))\n",
    "                if a>0:\n",
    "                    if a>100 and a<500:\n",
    "                        if a%2==0:\n",
    "                            print(f'{a} is even ')\n",
    "                            break\n",
    "                        else:\n",
    "                            print(a,\"is odd\")\n",
    "                            break\n",
    "                    else:\n",
    "                        print('plz enter data btn 100-500')\n",
    "                else:\n",
    "                    print('enetr +ve num')\n",
    "            else:\n",
    "                print(\"u hv complted ur turns...\")\n",
    "        elif data == 2:\n",
    "            a1 = int(input('enter lower :'))\n",
    "            a2 = int(input('enyer upper :'))\n",
    "            for i in range(a1,a2+1):\n",
    "                for j in range(2,i):\n",
    "                    if i%j == 0:\n",
    "                        break\n",
    "                else:\n",
    "                    print(i,end = \"  \")\n",
    "        elif data == 3:\n",
    "            \n",
    "                    "
   ]
  },
  {
   "cell_type": "code",
   "execution_count": null,
   "metadata": {},
   "outputs": [],
   "source": []
  }
 ],
 "metadata": {
  "kernelspec": {
   "display_name": "Python 3",
   "language": "python",
   "name": "python3"
  },
  "language_info": {
   "codemirror_mode": {
    "name": "ipython",
    "version": 3
   },
   "file_extension": ".py",
   "mimetype": "text/x-python",
   "name": "python",
   "nbconvert_exporter": "python",
   "pygments_lexer": "ipython3",
   "version": "3.7.4"
  }
 },
 "nbformat": 4,
 "nbformat_minor": 2
}
